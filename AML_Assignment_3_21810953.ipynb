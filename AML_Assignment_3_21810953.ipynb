{
  "nbformat": 4,
  "nbformat_minor": 0,
  "metadata": {
    "colab": {
      "name": "AML_Assignment 3_21810953",
      "provenance": []
    },
    "kernelspec": {
      "name": "python3",
      "display_name": "Python 3"
    },
    "language_info": {
      "name": "python"
    }
  },
  "cells": [
    {
      "cell_type": "code",
      "metadata": {
        "id": "nQzZJ4aJ2WPV"
      },
      "source": [
        "import pandas as pd\n",
        "import numpy as np\n",
        "from sklearn.neighbors import KNeighborsClassifier"
      ],
      "execution_count": 1,
      "outputs": []
    },
    {
      "cell_type": "code",
      "metadata": {
        "id": "hSZ0c6-P3PdX"
      },
      "source": [
        "df=pd.read_csv(\"dataset.csv\")\n",
        "\n",
        "X=df.iloc[:,:-1].values\n",
        "y=df.iloc[:,2].values"
      ],
      "execution_count": 2,
      "outputs": []
    },
    {
      "cell_type": "code",
      "metadata": {
        "colab": {
          "base_uri": "https://localhost:8080/"
        },
        "id": "PSj_YKSZygSK",
        "outputId": "f961398d-8ed7-4d33-b78c-f11c9052fd31"
      },
      "source": [
        "classifier=KNeighborsClassifier(n_neighbors=3)\n",
        "classifier.fit(X,y)"
      ],
      "execution_count": 3,
      "outputs": [
        {
          "output_type": "execute_result",
          "data": {
            "text/plain": [
              "KNeighborsClassifier(algorithm='auto', leaf_size=30, metric='minkowski',\n",
              "                     metric_params=None, n_jobs=None, n_neighbors=3, p=2,\n",
              "                     weights='uniform')"
            ]
          },
          "metadata": {},
          "execution_count": 3
        }
      ]
    },
    {
      "cell_type": "code",
      "metadata": {
        "colab": {
          "base_uri": "https://localhost:8080/"
        },
        "id": "8BkxCJ8mzBTj",
        "outputId": "b7f32de1-8aff-4350-f5e5-d2d80c582759"
      },
      "source": [
        "X_test=np.array([6,6])\n",
        "y_pred=classifier.predict([X_test])\n",
        "print('Class of point 6,6 is',y_pred)"
      ],
      "execution_count": 6,
      "outputs": [
        {
          "output_type": "stream",
          "name": "stdout",
          "text": [
            "Class of point 6,6 is ['negative']\n"
          ]
        }
      ]
    }
  ]
}